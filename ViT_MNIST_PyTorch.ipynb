{
  "cells": [
    {
      "cell_type": "code",
      "execution_count": 1,
      "metadata": {
        "id": "-lV1eHMGMTgd"
      },
      "outputs": [],
      "source": [
        "import torch\n",
        "import torch.nn as nn\n",
        "import torch.optim as optim\n",
        "from torchvision import datasets, transforms\n",
        "from torch.utils.data import DataLoader\n",
        "import matplotlib.pyplot as plt\n",
        "from tqdm import tqdm"
      ]
    },
    {
      "cell_type": "code",
      "metadata": {
        "colab": {
          "base_uri": "https://localhost:8080/"
        },
        "id": "cb5f3395",
        "outputId": "86111110-59a2-4090-b081-f5ea95aa110e"
      },
      "source": [
        "print(f\"PyTorch version: {torch.__version__}\")"
      ],
      "execution_count": 2,
      "outputs": [
        {
          "output_type": "stream",
          "name": "stdout",
          "text": [
            "PyTorch version: 2.8.0+cu126\n"
          ]
        }
      ]
    },
    {
      "cell_type": "code",
      "execution_count": 3,
      "metadata": {
        "colab": {
          "base_uri": "https://localhost:8080/"
        },
        "id": "4SrbE0sANIOh",
        "outputId": "50567991-c2b9-4728-d059-2053b0c3c09c"
      },
      "outputs": [
        {
          "output_type": "stream",
          "name": "stdout",
          "text": [
            "Using cuda device\n"
          ]
        }
      ],
      "source": [
        "# Device setting\n",
        "device = torch.device(\"cuda\" if torch.cuda.is_available() else \"cpu\")\n",
        "print(f\"Using {device} device\")"
      ]
    },
    {
      "cell_type": "code",
      "execution_count": 4,
      "metadata": {
        "id": "0ijoftI9NWzz"
      },
      "outputs": [],
      "source": [
        "# Define Hyperparameter\n",
        "BATCH_SIZE = 64;\n",
        "LEARNING_RATE = 0.0001;\n",
        "NUM_EPOCHS = 50;"
      ]
    },
    {
      "cell_type": "code",
      "execution_count": 5,
      "metadata": {
        "id": "9Sh08Y6lNWxk"
      },
      "outputs": [],
      "source": [
        "# Set transform to normalize\n",
        "transform = transforms.Compose([\n",
        "    transforms.ToTensor(),\n",
        "    transforms.Normalize((0.1307,), (0.3081,))\n",
        "])"
      ]
    },
    {
      "cell_type": "code",
      "execution_count": 6,
      "metadata": {
        "id": "kucSasW-NWnm"
      },
      "outputs": [],
      "source": [
        "# DataLoading\n",
        "train_dataset = datasets.MNIST(\n",
        "    '~/datasets',\n",
        "    train=True,\n",
        "    transform=transform,\n",
        "    download=True\n",
        ")\n",
        "test_dataset = datasets.MNIST(\n",
        "    '~/datasets',\n",
        "    train=False,\n",
        "    transform=transform,\n",
        "    download=True\n",
        ")\n",
        "\n",
        "train_dataloader = DataLoader(\n",
        "    train_dataset,\n",
        "    batch_size=BATCH_SIZE,\n",
        "    shuffle=True\n",
        ")\n",
        "test_dataloader = DataLoader(\n",
        "    test_dataset,\n",
        "    batch_size=BATCH_SIZE,\n",
        "    shuffle=False\n",
        ")"
      ]
    },
    {
      "cell_type": "code",
      "execution_count": 7,
      "metadata": {
        "colab": {
          "base_uri": "https://localhost:8080/"
        },
        "id": "7Acpnn0XNmfa",
        "outputId": "36a23058-3c44-48a8-b306-76634d7ae996"
      },
      "outputs": [
        {
          "output_type": "stream",
          "name": "stdout",
          "text": [
            "number of samples: torch.Size([64, 1, 28, 28])\n",
            "number of labels: torch.Size([64])\n"
          ]
        }
      ],
      "source": [
        "# Data size check\n",
        "data = iter(train_dataloader)\n",
        "samples, labels = next(data)\n",
        "print(f\"number of samples: {samples.shape}\")\n",
        "print(f\"number of labels: {labels.shape}\")"
      ]
    },
    {
      "cell_type": "code",
      "execution_count": 8,
      "metadata": {
        "colab": {
          "base_uri": "https://localhost:8080/",
          "height": 474
        },
        "id": "5SBYGtH1OkCa",
        "outputId": "3df86a9a-e977-4247-e834-3b86952f08be"
      },
      "outputs": [
        {
          "output_type": "display_data",
          "data": {
            "text/plain": [
              "<Figure size 1000x800 with 10 Axes>"
            ],
            "image/png": "[encoded data removed]"
          },
          "metadata": {}
        }
      ],
      "source": [
        "# Show sample data\n",
        "plt.figure(figsize=(10,8))\n",
        "for i in range(10):\n",
        "    plt.subplot(2,5,i+1)\n",
        "    plt.imshow(samples[i][0], cmap='BuPu')\n",
        "plt.show()"
      ]
    },
    {
      "cell_type": "code",
      "execution_count": 9,
      "metadata": {
        "id": "Twibv2eiOrMU"
      },
      "outputs": [],
      "source": [
        "class SimpleViT(nn.Module):\n",
        "    def __init__(self, *, image_size, patch_size, num_classes, dim, depth, heads, mlp_dim):\n",
        "        super().__init__()\n",
        "\n",
        "        num_patches = (image_size // patch_size) ** 2\n",
        "        # patch_dim = 1 * patch_size ** 2\n",
        "\n",
        "        # Patching and Linear Projection\n",
        "        self.patch_to_embedding = nn.Sequential(\n",
        "            nn.Conv2d(1, dim, kernel_size=patch_size, stride=patch_size), # Shape: (B, C, H/patch_size, W/patch_size)\n",
        "            nn.Flatten(2), # Shape: (B, dim, num_patches)\n",
        "        )\n",
        "\n",
        "        # Learnable [CLS] token\n",
        "        self.cls_token = nn.Parameter(torch.randn(1, 1, dim))\n",
        "\n",
        "        # Learnable Positional Embeddings\n",
        "        self.pos_embedding = nn.Parameter(torch.randn(1, num_patches + 1, dim))\n",
        "\n",
        "        # Transformer Encoder\n",
        "        encoder_layer = nn.TransformerEncoderLayer(\n",
        "            d_model=dim,\n",
        "            nhead=heads,\n",
        "            dim_feedforward=mlp_dim,\n",
        "            batch_first=True\n",
        "        )\n",
        "        self.transformer_encoder = nn.TransformerEncoder(\n",
        "            encoder_layer,\n",
        "            num_layers=depth\n",
        "        )\n",
        "\n",
        "        # MLP Head for classification\n",
        "        self.mlp_head = nn.Sequential(\n",
        "            nn.LayerNorm(dim),\n",
        "            nn.Linear(dim, num_classes)\n",
        "        )\n",
        "\n",
        "    def forward(self, img):\n",
        "        # Image shape: (B, C, H, W)\n",
        "\n",
        "        # Create patch embeddings\n",
        "        x = self.patch_to_embedding(img) # Shape: (B, dim, num_patches)\n",
        "        x = torch.transpose(x, 1, 2) # Shape: (B, num_patches, dim)\n",
        "        B, _, _ = x.shape\n",
        "\n",
        "        # Prepend the CLS token\n",
        "        cls_tokens = self.cls_token.expand(B, -1, -1) # Shape: (B, 1, dim)\n",
        "        x = torch.cat((cls_tokens, x), dim=1) # Shape: (B, num_patches + 1, dim)\n",
        "\n",
        "        # Add positional embeddings\n",
        "        x = x + self.pos_embedding # Shape: (B, num_patches + 1, dim)\n",
        "\n",
        "        # Pass through the Transformer Encoder\n",
        "        x = self.transformer_encoder(x) # Shape: (B, num_patches + 1, dim)\n",
        "\n",
        "        # Extract the CLS token's output for classification\n",
        "        cls_output = x[:, 0]\n",
        "\n",
        "        # Pass through the final classifier\n",
        "        return self.mlp_head(cls_output)"
      ]
    },
    {
      "cell_type": "code",
      "execution_count": 10,
      "metadata": {
        "id": "Gt-Bov28OrJ0"
      },
      "outputs": [],
      "source": [
        "model = SimpleViT(\n",
        "    image_size=28,  # MNIST image size\n",
        "    patch_size=2,   # Patch size\n",
        "    num_classes=10, # Number of classes in MNIST (0-9)\n",
        "    dim=64,         # Embedding dimension\n",
        "    depth=6,        # Number of Transformer blocks\n",
        "    heads=8,        # Number of attention heads\n",
        "    mlp_dim=128     # Dimension of the MLP in Transformer blocks\n",
        ").to(device)\n",
        "optimizer = torch.optim.AdamW(model.parameters(), lr=LEARNING_RATE)\n",
        "criterion = nn.CrossEntropyLoss()"
      ]
    },
    {
      "cell_type": "code",
      "execution_count": 11,
      "metadata": {
        "id": "-i0areTg9eVh"
      },
      "outputs": [],
      "source": [
        "# Loss and testset accuracy list\n",
        "loss_list, test_accuracy_list = [], []"
      ]
    },
    {
      "cell_type": "code",
      "execution_count": 12,
      "metadata": {
        "colab": {
          "base_uri": "https://localhost:8080/"
        },
        "id": "WiOpA8ESOpGv",
        "outputId": "de484ecc-a060-41fc-c0a7-7889bc1fa904"
      },
      "outputs": [
        {
          "output_type": "stream",
          "name": "stdout",
          "text": [
            "\n",
            "Starting training...\n"
          ]
        },
        {
          "output_type": "stream",
          "name": "stderr",
          "text": []
        },
        {
          "output_type": "stream",
          "name": "stdout",
          "text": [
            "Epoch 1/50, Loss: 1.4237\n",
            "Evaluating on test data...\n",
            "Test Accuracy: 83.35%\n"
          ]
        },
        {
          "output_type": "stream",
          "name": "stderr",
          "text": []
        },
        {
          "output_type": "stream",
          "name": "stdout",
          "text": [
            "Epoch 2/50, Loss: 0.5142\n",
            "Evaluating on test data...\n",
            "Test Accuracy: 90.02%\n"
          ]
        },
        {
          "output_type": "stream",
          "name": "stderr",
          "text": []
        },
        {
          "output_type": "stream",
          "name": "stdout",
          "text": [
            "Epoch 3/50, Loss: 0.3646\n",
            "Evaluating on test data...\n",
            "Test Accuracy: 91.94%\n"
          ]
        },
        {
          "output_type": "stream",
          "name": "stderr",
          "text": []
        },
        {
          "output_type": "stream",
          "name": "stdout",
          "text": [
            "Epoch 4/50, Loss: 0.2943\n",
            "Evaluating on test data...\n",
            "Test Accuracy: 92.85%\n"
          ]
        },
        {
          "output_type": "stream",
          "name": "stderr",
          "text": []
        },
        {
          "output_type": "stream",
          "name": "stdout",
          "text": [
            "Epoch 5/50, Loss: 0.2539\n",
            "Evaluating on test data...\n",
            "Test Accuracy: 94.14%\n"
          ]
        },
        {
          "output_type": "stream",
          "name": "stderr",
          "text": []
        },
        {
          "output_type": "stream",
          "name": "stdout",
          "text": [
            "Epoch 6/50, Loss: 0.2253\n",
            "Evaluating on test data...\n",
            "Test Accuracy: 94.36%\n"
          ]
        },
        {
          "output_type": "stream",
          "name": "stderr",
          "text": []
        },
        {
          "output_type": "stream",
          "name": "stdout",
          "text": [
            "Epoch 7/50, Loss: 0.2050\n",
            "Evaluating on test data...\n",
            "Test Accuracy: 95.17%\n"
          ]
        },
        {
          "output_type": "stream",
          "name": "stderr",
          "text": []
        },
        {
          "output_type": "stream",
          "name": "stdout",
          "text": [
            "Epoch 8/50, Loss: 0.1889\n",
            "Evaluating on test data...\n",
            "Test Accuracy: 95.31%\n"
          ]
        },
        {
          "output_type": "stream",
          "name": "stderr",
          "text": []
        },
        {
          "output_type": "stream",
          "name": "stdout",
          "text": [
            "Epoch 9/50, Loss: 0.1723\n",
            "Evaluating on test data...\n",
            "Test Accuracy: 95.55%\n"
          ]
        },
        {
          "output_type": "stream",
          "name": "stderr",
          "text": []
        },
        {
          "output_type": "stream",
          "name": "stdout",
          "text": [
            "Epoch 10/50, Loss: 0.1572\n",
            "Evaluating on test data...\n",
            "Test Accuracy: 95.55%\n"
          ]
        },
        {
          "output_type": "stream",
          "name": "stderr",
          "text": []
        },
        {
          "output_type": "stream",
          "name": "stdout",
          "text": [
            "Epoch 11/50, Loss: 0.1504\n",
            "Evaluating on test data...\n",
            "Test Accuracy: 96.17%\n"
          ]
        },
        {
          "output_type": "stream",
          "name": "stderr",
          "text": []
        },
        {
          "output_type": "stream",
          "name": "stdout",
          "text": [
            "Epoch 12/50, Loss: 0.1373\n",
            "Evaluating on test data...\n",
            "Test Accuracy: 96.45%\n"
          ]
        },
        {
          "output_type": "stream",
          "name": "stderr",
          "text": []
        },
        {
          "output_type": "stream",
          "name": "stdout",
          "text": [
            "Epoch 13/50, Loss: 0.1291\n",
            "Evaluating on test data...\n",
            "Test Accuracy: 96.74%\n"
          ]
        },
        {
          "output_type": "stream",
          "name": "stderr",
          "text": []
        },
        {
          "output_type": "stream",
          "name": "stdout",
          "text": [
            "Epoch 14/50, Loss: 0.1239\n",
            "Evaluating on test data...\n",
            "Test Accuracy: 96.70%\n"
          ]
        },
        {
          "output_type": "stream",
          "name": "stderr",
          "text": []
        },
        {
          "output_type": "stream",
          "name": "stdout",
          "text": [
            "Epoch 15/50, Loss: 0.1153\n",
            "Evaluating on test data...\n",
            "Test Accuracy: 96.68%\n"
          ]
        },
        {
          "output_type": "stream",
          "name": "stderr",
          "text": []
        },
        {
          "output_type": "stream",
          "name": "stdout",
          "text": [
            "Epoch 16/50, Loss: 0.1095\n",
            "Evaluating on test data...\n",
            "Test Accuracy: 97.00%\n"
          ]
        },
        {
          "output_type": "stream",
          "name": "stderr",
          "text": []
        },
        {
          "output_type": "stream",
          "name": "stdout",
          "text": [
            "Epoch 17/50, Loss: 0.1047\n",
            "Evaluating on test data...\n",
            "Test Accuracy: 97.31%\n"
          ]
        },
        {
          "output_type": "stream",
          "name": "stderr",
          "text": []
        },
        {
          "output_type": "stream",
          "name": "stdout",
          "text": [
            "Epoch 18/50, Loss: 0.1014\n",
            "Evaluating on test data...\n",
            "Test Accuracy: 96.64%\n"
          ]
        },
        {
          "output_type": "stream",
          "name": "stderr",
          "text": []
        },
        {
          "output_type": "stream",
          "name": "stdout",
          "text": [
            "Epoch 19/50, Loss: 0.0966\n",
            "Evaluating on test data...\n",
            "Test Accuracy: 97.22%\n"
          ]
        },
        {
          "output_type": "stream",
          "name": "stderr",
          "text": []
        },
        {
          "output_type": "stream",
          "name": "stdout",
          "text": [
            "Epoch 20/50, Loss: 0.0907\n",
            "Evaluating on test data...\n",
            "Test Accuracy: 97.33%\n"
          ]
        },
        {
          "output_type": "stream",
          "name": "stderr",
          "text": []
        },
        {
          "output_type": "stream",
          "name": "stdout",
          "text": [
            "Epoch 21/50, Loss: 0.0902\n",
            "Evaluating on test data...\n",
            "Test Accuracy: 97.31%\n"
          ]
        },
        {
          "output_type": "stream",
          "name": "stderr",
          "text": []
        },
        {
          "output_type": "stream",
          "name": "stdout",
          "text": [
            "Epoch 22/50, Loss: 0.0860\n",
            "Evaluating on test data...\n",
            "Test Accuracy: 97.39%\n"
          ]
        },
        {
          "output_type": "stream",
          "name": "stderr",
          "text": []
        },
        {
          "output_type": "stream",
          "name": "stdout",
          "text": [
            "Epoch 23/50, Loss: 0.0838\n",
            "Evaluating on test data...\n",
            "Test Accuracy: 97.34%\n"
          ]
        },
        {
          "output_type": "stream",
          "name": "stderr",
          "text": []
        },
        {
          "output_type": "stream",
          "name": "stdout",
          "text": [
            "Epoch 24/50, Loss: 0.0768\n",
            "Evaluating on test data...\n",
            "Test Accuracy: 97.27%\n"
          ]
        },
        {
          "output_type": "stream",
          "name": "stderr",
          "text": []
        },
        {
          "output_type": "stream",
          "name": "stdout",
          "text": [
            "Epoch 25/50, Loss: 0.0769\n",
            "Evaluating on test data...\n",
            "Test Accuracy: 97.54%\n"
          ]
        },
        {
          "output_type": "stream",
          "name": "stderr",
          "text": []
        },
        {
          "output_type": "stream",
          "name": "stdout",
          "text": [
            "Epoch 26/50, Loss: 0.0729\n",
            "Evaluating on test data...\n",
            "Test Accuracy: 97.63%\n"
          ]
        },
        {
          "output_type": "stream",
          "name": "stderr",
          "text": []
        },
        {
          "output_type": "stream",
          "name": "stdout",
          "text": [
            "Epoch 27/50, Loss: 0.0701\n",
            "Evaluating on test data...\n",
            "Test Accuracy: 97.72%\n"
          ]
        },
        {
          "output_type": "stream",
          "name": "stderr",
          "text": []
        },
        {
          "output_type": "stream",
          "name": "stdout",
          "text": [
            "Epoch 28/50, Loss: 0.0675\n",
            "Evaluating on test data...\n",
            "Test Accuracy: 97.84%\n"
          ]
        },
        {
          "output_type": "stream",
          "name": "stderr",
          "text": []
        },
        {
          "output_type": "stream",
          "name": "stdout",
          "text": [
            "Epoch 29/50, Loss: 0.0649\n",
            "Evaluating on test data...\n",
            "Test Accuracy: 97.70%\n"
          ]
        },
        {
          "output_type": "stream",
          "name": "stderr",
          "text": []
        },
        {
          "output_type": "stream",
          "name": "stdout",
          "text": [
            "Epoch 30/50, Loss: 0.0633\n",
            "Evaluating on test data...\n",
            "Test Accuracy: 97.78%\n"
          ]
        },
        {
          "output_type": "stream",
          "name": "stderr",
          "text": []
        },
        {
          "output_type": "stream",
          "name": "stdout",
          "text": [
            "Epoch 31/50, Loss: 0.0606\n",
            "Evaluating on test data...\n",
            "Test Accuracy: 97.67%\n"
          ]
        },
        {
          "output_type": "stream",
          "name": "stderr",
          "text": []
        },
        {
          "output_type": "stream",
          "name": "stdout",
          "text": [
            "Epoch 32/50, Loss: 0.0583\n",
            "Evaluating on test data...\n",
            "Test Accuracy: 97.79%\n"
          ]
        },
        {
          "output_type": "stream",
          "name": "stderr",
          "text": []
        },
        {
          "output_type": "stream",
          "name": "stdout",
          "text": [
            "Epoch 33/50, Loss: 0.0561\n",
            "Evaluating on test data...\n",
            "Test Accuracy: 98.04%\n"
          ]
        },
        {
          "output_type": "stream",
          "name": "stderr",
          "text": []
        },
        {
          "output_type": "stream",
          "name": "stdout",
          "text": [
            "Epoch 34/50, Loss: 0.0556\n",
            "Evaluating on test data...\n",
            "Test Accuracy: 97.90%\n"
          ]
        },
        {
          "output_type": "stream",
          "name": "stderr",
          "text": []
        },
        {
          "output_type": "stream",
          "name": "stdout",
          "text": [
            "Epoch 35/50, Loss: 0.0531\n",
            "Evaluating on test data...\n",
            "Test Accuracy: 98.03%\n"
          ]
        },
        {
          "output_type": "stream",
          "name": "stderr",
          "text": []
        },
        {
          "output_type": "stream",
          "name": "stdout",
          "text": [
            "Epoch 36/50, Loss: 0.0512\n",
            "Evaluating on test data...\n",
            "Test Accuracy: 97.84%\n"
          ]
        },
        {
          "output_type": "stream",
          "name": "stderr",
          "text": []
        },
        {
          "output_type": "stream",
          "name": "stdout",
          "text": [
            "Epoch 37/50, Loss: 0.0509\n",
            "Evaluating on test data...\n",
            "Test Accuracy: 97.94%\n"
          ]
        },
        {
          "output_type": "stream",
          "name": "stderr",
          "text": []
        },
        {
          "output_type": "stream",
          "name": "stdout",
          "text": [
            "Epoch 38/50, Loss: 0.0466\n",
            "Evaluating on test data...\n",
            "Test Accuracy: 98.02%\n"
          ]
        },
        {
          "output_type": "stream",
          "name": "stderr",
          "text": []
        },
        {
          "output_type": "stream",
          "name": "stdout",
          "text": [
            "Epoch 39/50, Loss: 0.0472\n",
            "Evaluating on test data...\n",
            "Test Accuracy: 97.92%\n"
          ]
        },
        {
          "output_type": "stream",
          "name": "stderr",
          "text": []
        },
        {
          "output_type": "stream",
          "name": "stdout",
          "text": [
            "Epoch 40/50, Loss: 0.0456\n",
            "Evaluating on test data...\n",
            "Test Accuracy: 98.01%\n"
          ]
        },
        {
          "output_type": "stream",
          "name": "stderr",
          "text": []
        },
        {
          "output_type": "stream",
          "name": "stdout",
          "text": [
            "Epoch 41/50, Loss: 0.0437\n",
            "Evaluating on test data...\n",
            "Test Accuracy: 98.01%\n"
          ]
        },
        {
          "output_type": "stream",
          "name": "stderr",
          "text": []
        },
        {
          "output_type": "stream",
          "name": "stdout",
          "text": [
            "Epoch 42/50, Loss: 0.0436\n",
            "Evaluating on test data...\n",
            "Test Accuracy: 98.08%\n"
          ]
        },
        {
          "output_type": "stream",
          "name": "stderr",
          "text": []
        },
        {
          "output_type": "stream",
          "name": "stdout",
          "text": [
            "Epoch 43/50, Loss: 0.0413\n",
            "Evaluating on test data...\n",
            "Test Accuracy: 98.08%\n"
          ]
        },
        {
          "output_type": "stream",
          "name": "stderr",
          "text": []
        },
        {
          "output_type": "stream",
          "name": "stdout",
          "text": [
            "Epoch 44/50, Loss: 0.0402\n",
            "Evaluating on test data...\n",
            "Test Accuracy: 98.24%\n"
          ]
        },
        {
          "output_type": "stream",
          "name": "stderr",
          "text": []
        },
        {
          "output_type": "stream",
          "name": "stdout",
          "text": [
            "Epoch 45/50, Loss: 0.0393\n",
            "Evaluating on test data...\n",
            "Test Accuracy: 98.12%\n"
          ]
        },
        {
          "output_type": "stream",
          "name": "stderr",
          "text": []
        },
        {
          "output_type": "stream",
          "name": "stdout",
          "text": [
            "Epoch 46/50, Loss: 0.0377\n",
            "Evaluating on test data...\n",
            "Test Accuracy: 98.23%\n"
          ]
        },
        {
          "output_type": "stream",
          "name": "stderr",
          "text": []
        },
        {
          "output_type": "stream",
          "name": "stdout",
          "text": [
            "Epoch 47/50, Loss: 0.0374\n",
            "Evaluating on test data...\n",
            "Test Accuracy: 98.15%\n"
          ]
        },
        {
          "output_type": "stream",
          "name": "stderr",
          "text": []
        },
        {
          "output_type": "stream",
          "name": "stdout",
          "text": [
            "Epoch 48/50, Loss: 0.0344\n",
            "Evaluating on test data...\n",
            "Test Accuracy: 98.13%\n"
          ]
        },
        {
          "output_type": "stream",
          "name": "stderr",
          "text": []
        },
        {
          "output_type": "stream",
          "name": "stdout",
          "text": [
            "Epoch 49/50, Loss: 0.0359\n",
            "Evaluating on test data...\n",
            "Test Accuracy: 98.27%\n"
          ]
        },
        {
          "output_type": "stream",
          "name": "stderr",
          "text": []
        },
        {
          "output_type": "stream",
          "name": "stdout",
          "text": [
            "Epoch 50/50, Loss: 0.0326\n",
            "Evaluating on test data...\n",
            "Test Accuracy: 98.07%\n",
            "\n",
            "Finished Training!\n"
          ]
        }
      ],
      "source": [
        "# Training loop\n",
        "print(\"\\nStarting training...\")\n",
        "for epoch in range(NUM_EPOCHS):\n",
        "    model.train()\n",
        "    running_loss = 0.0\n",
        "\n",
        "    progress_bar = tqdm(train_dataloader, desc=f\"Epoch {epoch+1}/{NUM_EPOCHS}\", leave=False)\n",
        "\n",
        "    for images, labels in progress_bar:\n",
        "        images = images.to(device)\n",
        "        labels = labels.to(device)\n",
        "\n",
        "        outputs = model(images)\n",
        "        loss = criterion(outputs, labels)\n",
        "\n",
        "        optimizer.zero_grad()\n",
        "        loss.backward()\n",
        "        optimizer.step()\n",
        "\n",
        "        running_loss += loss.item()\n",
        "        progress_bar.set_postfix(loss=loss.item())\n",
        "\n",
        "    avg_loss = running_loss / len(train_dataloader)\n",
        "    print(f\"Epoch {epoch+1}/{NUM_EPOCHS}, Loss: {avg_loss:.4f}\")\n",
        "    loss_list.append(avg_loss)\n",
        "\n",
        "    # Eval\n",
        "    print(\"Evaluating on test data...\")\n",
        "    model.eval()\n",
        "\n",
        "    with torch.no_grad():\n",
        "        correct = 0\n",
        "        total = 0\n",
        "        for images, labels in test_dataloader:\n",
        "            images = images.to(device)\n",
        "            labels = labels.to(device)\n",
        "            outputs = model(images)\n",
        "\n",
        "            _, predicted = torch.max(outputs.data, 1)\n",
        "\n",
        "            total += labels.size(0)\n",
        "            correct += (predicted == labels).sum().item()\n",
        "\n",
        "    accuracy = 100 * correct / total\n",
        "    print(f\"Test Accuracy: {accuracy:.2f}%\")\n",
        "    test_accuracy_list.append(accuracy)\n",
        "\n",
        "print(\"\\nFinished Training!\")"
      ]
    },
    {
      "cell_type": "code",
      "metadata": {
        "colab": {
          "base_uri": "https://localhost:8080/"
        },
        "id": "fabf6a0e",
        "outputId": "4899f897-87ef-4586-c048-d5d411164963"
      },
      "source": [
        "model.eval()\n",
        "final_test_loss = 0.0\n",
        "with torch.no_grad():\n",
        "    for images, labels in test_dataloader:\n",
        "        images = images.to(device)\n",
        "        labels = labels.to(device)\n",
        "        outputs = model(images)\n",
        "        loss = criterion(outputs, labels)\n",
        "        final_test_loss += loss.item()\n",
        "\n",
        "final_test_loss /= len(test_dataloader)\n",
        "print(f\"Final Test Loss: {final_test_loss:.4f}\")"
      ],
      "execution_count": 21,
      "outputs": [
        {
          "output_type": "stream",
          "name": "stdout",
          "text": [
            "Final Test Loss: 0.0628\n"
          ]
        }
      ]
    },
    {
      "cell_type": "code",
      "execution_count": 13,
      "metadata": {
        "id": "2EWGQjRv_PG2",
        "colab": {
          "base_uri": "https://localhost:8080/",
          "height": 881
        },
        "outputId": "80171095-8172-4dc8-fd3d-aef2ee72384c"
      },
      "outputs": [
        {
          "output_type": "display_data",
          "data": {
            "text/plain": [
              "<Figure size 640x480 with 1 Axes>"
            ],
            "image/png": "[encoded data removed]"
          },
          "metadata": {}
        },
        {
          "output_type": "display_data",
          "data": {
            "text/plain": [
              "<Figure size 640x480 with 1 Axes>"
            ],
            "image/png": "[encoded data removed]"
          },
          "metadata": {}
        }
      ],
      "source": [
        "# Loss and Test Accuracy Plot\n",
        "plt.plot(range(len(loss_list)), loss_list, label='Training Loss', color='red')\n",
        "plt.xlabel('Epoch')\n",
        "plt.ylabel('Loss')\n",
        "plt.yscale('log')\n",
        "plt.legend()\n",
        "plt.show()\n",
        "\n",
        "plt.plot(range(len(test_accuracy_list)), test_accuracy_list, label='Test Accuracy', color='blue')\n",
        "plt.xlabel('Epoch')\n",
        "plt.ylabel('Accuracy')\n",
        "plt.legend()\n",
        "plt.show()"
      ]
    }
  ],
  "metadata": {
    "accelerator": "GPU",
    "colab": {
      "gpuType": "A100",
      "provenance": [],
      "authorship_tag": "ABX9TyOI2rrIrDDL328UOERxeqgF"
    },
    "kernelspec": {
      "display_name": "Python 3",
      "name": "python3"
    },
    "language_info": {
      "name": "python"
    }
  },
  "nbformat": 4,
  "nbformat_minor": 0
}